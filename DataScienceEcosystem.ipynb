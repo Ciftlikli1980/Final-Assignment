{
 "cells": [
  {
   "cell_type": "markdown",
   "id": "db7e5b8e-26fb-43e9-b738-e20a2264f9b3",
   "metadata": {
    "tags": []
   },
   "source": [
    "# Data Science Tools and Ecosystem\n",
    "In this notebook, Data Science Tools and Ecosystem are summarized."
   ]
  },
  {
   "cell_type": "markdown",
   "id": "dcd05cfc-fe9c-4478-9798-831c092ece2c",
   "metadata": {},
   "source": [
    "**Objectives:**\n",
    "* Popular languages that Data Scientist use\n",
    "* Commonly used libraries used by Data Scientist\n",
    "* Data Ssience Tools\n",
    "* Examples of evaluating expressions in Python"
   ]
  },
  {
   "cell_type": "markdown",
   "id": "fc088cde-c37b-44e3-a141-9e8d3b67f304",
   "metadata": {},
   "source": [
    "Some of the popular languages that Data Scientists use are:\n",
    "1. Python\n",
    "1. R\n",
    "1. SQL\n",
    "1. Julia\n",
    "1. JavaScript\n"
   ]
  },
  {
   "cell_type": "markdown",
   "id": "5f334dcd-5a70-4aa3-95bd-16fd210048ea",
   "metadata": {},
   "source": [
    "Some of the commonly used libraries by Data Scientists include:\n",
    "1. TensorFlow\n",
    "1. NumPy\n",
    "1. SciPy\n",
    "1. Pandas\n",
    "1. Keras"
   ]
  },
  {
   "cell_type": "markdown",
   "id": "314b9ebd-0822-49cb-bcaa-9969744b6195",
   "metadata": {},
   "source": [
    "|Data Science Tools|\n",
    "--------------------\n",
    "|Jupiter Notebooks |\n",
    "|RStudio           |\n",
    "|Git               |"
   ]
  },
  {
   "cell_type": "markdown",
   "id": "0ae43c82-e753-4a9b-91c8-8494328dbe4f",
   "metadata": {
    "tags": []
   },
   "source": [
    "### Below are a few examples of evaluating arithmetic expressions in Python"
   ]
  },
  {
   "cell_type": "code",
   "execution_count": 3,
   "id": "966077da-cbaf-4767-a801-04f53f365c49",
   "metadata": {
    "tags": []
   },
   "outputs": [
    {
     "data": {
      "text/plain": [
       "17"
      ]
     },
     "execution_count": 3,
     "metadata": {},
     "output_type": "execute_result"
    }
   ],
   "source": [
    "#This is a simple arithmetic expression to mutiply then add integers\n",
    "(3*4)+5"
   ]
  },
  {
   "cell_type": "code",
   "execution_count": 4,
   "id": "3f911832-1b35-425b-ba8a-825100cf6eff",
   "metadata": {
    "tags": []
   },
   "outputs": [
    {
     "data": {
      "text/plain": [
       "3.3333333333333335"
      ]
     },
     "execution_count": 4,
     "metadata": {},
     "output_type": "execute_result"
    }
   ],
   "source": [
    "#This will convert 200 minutes to hours by diving by 60\n",
    "200/60"
   ]
  },
  {
   "cell_type": "markdown",
   "id": "90a47f77-1e0c-4bbd-9fbf-bbb08c7953fa",
   "metadata": {},
   "source": [
    "## Author\n",
    "Mustafa Özbal"
   ]
  },
  {
   "cell_type": "code",
   "execution_count": null,
   "id": "6ff6e3d5-a1ab-417c-a153-bbf1a0ba1fcd",
   "metadata": {},
   "outputs": [],
   "source": []
  }
 ],
 "metadata": {
  "kernelspec": {
   "display_name": "Python 3 (ipykernel)",
   "language": "python",
   "name": "python3"
  },
  "language_info": {
   "codemirror_mode": {
    "name": "ipython",
    "version": 3
   },
   "file_extension": ".py",
   "mimetype": "text/x-python",
   "name": "python",
   "nbconvert_exporter": "python",
   "pygments_lexer": "ipython3",
   "version": "3.11.5"
  }
 },
 "nbformat": 4,
 "nbformat_minor": 5
}
